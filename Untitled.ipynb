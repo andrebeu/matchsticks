{
 "cells": [
  {
   "cell_type": "code",
   "execution_count": 27,
   "id": "c4dee729",
   "metadata": {},
   "outputs": [
    {
     "name": "stdout",
     "output_type": "stream",
     "text": [
      "The autoreload extension is already loaded. To reload it, use:\n",
      "  %reload_ext autoreload\n"
     ]
    }
   ],
   "source": [
    "import numpy as np\n",
    "from main import *\n",
    "import seaborn as sns\n",
    "sns.set_context('talk')\n",
    "\n",
    "%load_ext autoreload\n",
    "%reload_ext autoreload\n",
    "%autoreload 2\n",
    "%matplotlib inline"
   ]
  },
  {
   "cell_type": "code",
   "execution_count": 29,
   "id": "70b2304c",
   "metadata": {},
   "outputs": [],
   "source": [
    "\n",
    "sticks_init = [9,12,13,16,6]\n",
    "sticks_sol = [9,12,13,16]\n",
    "\n",
    "x0 = form_obs(sticks_init)\n",
    "xf = form_obs(sticks_sol)"
   ]
  },
  {
   "cell_type": "code",
   "execution_count": null,
   "id": "9d9b32e1",
   "metadata": {},
   "outputs": [],
   "source": [
    "init_st = State(x0)\n",
    "final_st = State(xf)"
   ]
  },
  {
   "cell_type": "code",
   "execution_count": 30,
   "id": "68d8af3f",
   "metadata": {},
   "outputs": [],
   "source": [
    "\n",
    "task = Task(init_state=0,final_states=[xf],max_depth=1)\n"
   ]
  },
  {
   "cell_type": "code",
   "execution_count": 15,
   "id": "ceb2a2b4",
   "metadata": {},
   "outputs": [],
   "source": [
    "valid_actions = np.where(s0.obs)[0]"
   ]
  },
  {
   "cell_type": "code",
   "execution_count": 16,
   "id": "c49c6b2f",
   "metadata": {},
   "outputs": [
    {
     "data": {
      "text/plain": [
       "'3 not in [ 9 12 13 16]'"
      ]
     },
     "execution_count": 16,
     "metadata": {},
     "output_type": "execute_result"
    }
   ],
   "source": [
    "a = 3\n",
    "va = valid_actions\n",
    "\"%i not in %s\"%(a,str(va))"
   ]
  }
 ],
 "metadata": {
  "kernelspec": {
   "display_name": "Python 3",
   "language": "python",
   "name": "python3"
  },
  "language_info": {
   "codemirror_mode": {
    "name": "ipython",
    "version": 3
   },
   "file_extension": ".py",
   "mimetype": "text/x-python",
   "name": "python",
   "nbconvert_exporter": "python",
   "pygments_lexer": "ipython3",
   "version": "3.8.8"
  }
 },
 "nbformat": 4,
 "nbformat_minor": 5
}
