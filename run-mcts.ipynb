{
 "cells": [
  {
   "cell_type": "code",
   "execution_count": 1,
   "metadata": {},
   "outputs": [],
   "source": [
    "import MCTS\n",
    "import numpy as np\n",
    "from shared import *\n",
    "from treeSearch import *\n",
    "import seaborn as sns\n",
    "from matplotlib import pyplot as plt\n",
    "import itertools\n",
    "from board_gen import *\n",
    "sns.set_context('talk')\n",
    "\n",
    "%load_ext autoreload\n",
    "%reload_ext autoreload\n",
    "%autoreload 2\n",
    "%matplotlib inline"
   ]
  },
  {
   "cell_type": "code",
   "execution_count": 2,
   "metadata": {},
   "outputs": [],
   "source": [
    "stratL = ['loose_end','join','outer','middle']\n",
    "\n",
    "n_runs=50\n",
    "n_tasks=8\n",
    "niter=np.zeros((n_runs,n_tasks+1))"
   ]
  },
  {
   "cell_type": "code",
   "execution_count": 3,
   "metadata": {},
   "outputs": [],
   "source": [
    "si=3\n",
    "for run_id in range(n_runs):\n",
    "    taskL = [generate_board(tactic_name=stratL[si],n_extra_sticks=0,contiguous=True) for i in range(1)]\n",
    "    taskL+=[generate_board(tactic_name=stratL[si],n_extra_sticks=2,contiguous=True) for i in range(n_tasks)]\n",
    "\n",
    "    memory=[]\n",
    "    for task_id,task in enumerate(taskL):\n",
    "        hn=task.head_node\n",
    "        t2=MCTS.MCTSTask(hn.obs,task.nsquares,hn.moves_remain)\n",
    "        n_iters=MCTS.MCTS(t2,memory=memory,max_iters=100)\n",
    "        MCTS.update_memory(t2,memory)\n",
    "        niter[run_id,task_id]=n_iters"
   ]
  },
  {
   "cell_type": "code",
   "execution_count": 4,
   "metadata": {},
   "outputs": [
    {
     "data": {
      "text/plain": [
       "[<matplotlib.lines.Line2D at 0x7f8399023978>]"
      ]
     },
     "execution_count": 4,
     "metadata": {},
     "output_type": "execute_result"
    },
    {
     "data": {
      "image/png": "[encoded data removed]",
      "text/plain": [
       "<Figure size 432x288 with 1 Axes>"
      ]
     },
     "metadata": {
      "needs_background": "light"
     },
     "output_type": "display_data"
    }
   ],
   "source": [
    "plt.plot(np.mean(niter,0))"
   ]
  }
 ],
 "metadata": {
  "kernelspec": {
   "display_name": "Python 3",
   "language": "python",
   "name": "python3"
  },
  "language_info": {
   "codemirror_mode": {
    "name": "ipython",
    "version": 3
   },
   "file_extension": ".py",
   "mimetype": "text/x-python",
   "name": "python",
   "nbconvert_exporter": "python",
   "pygments_lexer": "ipython3",
   "version": "3.7.3"
  }
 },
 "nbformat": 4,
 "nbformat_minor": 2
}
