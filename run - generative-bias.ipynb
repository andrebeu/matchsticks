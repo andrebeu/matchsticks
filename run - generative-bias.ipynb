{
 "cells": [
  {
   "cell_type": "code",
   "execution_count": 8,
   "id": "3e6e4c55",
   "metadata": {},
   "outputs": [
    {
     "name": "stdout",
     "output_type": "stream",
     "text": [
      "The autoreload extension is already loaded. To reload it, use:\n",
      "  %reload_ext autoreload\n"
     ]
    }
   ],
   "source": [
    "import numpy as np\n",
    "from shared import *\n",
    "from treeSearch import *\n",
    "import seaborn as sns\n",
    "from matplotlib import pyplot as plt\n",
    "import itertools\n",
    "sns.set_context('talk')\n",
    "\n",
    "%load_ext autoreload\n",
    "%reload_ext autoreload\n",
    "%autoreload 2\n",
    "%matplotlib inline"
   ]
  },
  {
   "cell_type": "markdown",
   "id": "4bc386c3",
   "metadata": {},
   "source": [
    "# single stick sticking down"
   ]
  },
  {
   "cell_type": "code",
   "execution_count": 46,
   "id": "fd96f74c",
   "metadata": {},
   "outputs": [],
   "source": [
    "def run2taskL(taskL,nitr=50):\n",
    "  ntasks = len(taskL)\n",
    "  rt = np.zeros([nitr,4,ntasks])\n",
    "  smode = np.zeros([nitr,4,ntasks])\n",
    "  sol_L = []\n",
    "  for idx,(mem,bfs) in enumerate(itertools.product([False,True],[True,False])):\n",
    "    sol_L.append([])\n",
    "    for itr in range(nitr):\n",
    "      D = treeSearch(taskL,BFS=bfs,memory=mem)\n",
    "      rt[itr,idx],smode[itr,idx] = D['rt'],D['smode']\n",
    "      sol_L[idx].append([i.valid_actions for i in D['solution_nodes']])\n",
    "  return rt,smode,np.array(sol_L)\n",
    "idxL = ['BFS','DFS','BFSm','DFSm']"
   ]
  },
  {
   "cell_type": "code",
   "execution_count": 47,
   "id": "55638db8",
   "metadata": {},
   "outputs": [],
   "source": [
    "def line_plt_rt(ax,rt):\n",
    "  for mi in range(len(idxL)):\n",
    "    M = rt.mean(0)[mi]\n",
    "    S = rt.std(0)[mi]/np.sqrt(len(rt))\n",
    "    ax.plot(M,label=idxL[mi])\n",
    "    ax.fill_between(range(len(M)),M-S,M+S,alpha=0.4)\n",
    "  ax.legend()"
   ]
  },
  {
   "cell_type": "code",
   "execution_count": 48,
   "id": "f56ad62b",
   "metadata": {},
   "outputs": [
    {
     "name": "stderr",
     "output_type": "stream",
     "text": [
      "<ipython-input-46-ab6e1d696832>:12: VisibleDeprecationWarning: Creating an ndarray from ragged nested sequences (which is a list-or-tuple of lists-or-tuples-or ndarrays with different lengths or shapes) is deprecated. If you meant to do this, you must specify 'dtype=object' when creating the ndarray.\n",
      "  return rt,smode,np.array(sol_L)\n"
     ]
    }
   ],
   "source": [
    "taskL = []\n",
    "taskL += [generate_board(tactic_name='bias_join',n_extra_sticks=1,contiguous=True) for i in range(2)]\n",
    "taskL += [generate_board(tactic_name='bias_loose',n_extra_sticks=1,contiguous=True) for i in range(2)]\n",
    "taskL += [generate_board(tactic_name='bias_final',n_extra_sticks=1,contiguous=True) for i in range(2)]\n",
    "\n",
    "# f,axar = plt.subplots(4,1,figsize=(8,20))\n",
    "rt,smode,sol_L = run2taskL(taskL,nitr)\n",
    "# line_plt_rt(ax,rt)"
   ]
  },
  {
   "cell_type": "code",
   "execution_count": 51,
   "id": "9e3d1086",
   "metadata": {},
   "outputs": [
    {
     "data": {
      "text/plain": [
       "(4, 2, 6)"
      ]
     },
     "execution_count": 51,
     "metadata": {},
     "output_type": "execute_result"
    }
   ],
   "source": [
    "sol_L.shape"
   ]
  },
  {
   "cell_type": "code",
   "execution_count": 5,
   "id": "14725a03",
   "metadata": {},
   "outputs": [
    {
     "data": {
      "image/png": "[encoded data removed]",
      "text/plain": [
       "<Figure size 432x288 with 1 Axes>"
      ]
     },
     "metadata": {
      "needs_background": "light"
     },
     "output_type": "display_data"
    }
   ],
   "source": [
    "from utils import *\n",
    "plt.subplots(1,3,figsize=(10,15))\n",
    "draw_board(LOOSE_END_BOARD_BIAS)"
   ]
  },
  {
   "cell_type": "code",
   "execution_count": 6,
   "id": "c0f780fb",
   "metadata": {},
   "outputs": [
    {
     "data": {
      "image/png": "[encoded data removed]",
      "text/plain": [
       "<Figure size 432x288 with 1 Axes>"
      ]
     },
     "metadata": {
      "needs_background": "light"
     },
     "output_type": "display_data"
    }
   ],
   "source": [
    "draw_board(JOIN_BOARD_BIAS)"
   ]
  },
  {
   "cell_type": "code",
   "execution_count": null,
   "id": "b2639d60",
   "metadata": {},
   "outputs": [],
   "source": []
  }
 ],
 "metadata": {
  "kernelspec": {
   "display_name": "Python 3",
   "language": "python",
   "name": "python3"
  },
  "language_info": {
   "codemirror_mode": {
    "name": "ipython",
    "version": 3
   },
   "file_extension": ".py",
   "mimetype": "text/x-python",
   "name": "python",
   "nbconvert_exporter": "python",
   "pygments_lexer": "ipython3",
   "version": "3.8.8"
  }
 },
 "nbformat": 4,
 "nbformat_minor": 5
}
