{
 "cells": [
  {
   "cell_type": "code",
   "execution_count": 1,
   "id": "3e6e4c55",
   "metadata": {},
   "outputs": [],
   "source": [
    "import numpy as np\n",
    "from shared import *\n",
    "from treeSearch import *\n",
    "import seaborn as sns\n",
    "from matplotlib import pyplot as plt\n",
    "import itertools\n",
    "sns.set_context('talk')\n",
    "\n",
    "%load_ext autoreload\n",
    "%reload_ext autoreload\n",
    "%autoreload 2\n",
    "%matplotlib inline"
   ]
  },
  {
   "cell_type": "markdown",
   "id": "4bc386c3",
   "metadata": {},
   "source": [
    "# single stick sticking down"
   ]
  },
  {
   "cell_type": "code",
   "execution_count": 2,
   "id": "fd96f74c",
   "metadata": {},
   "outputs": [],
   "source": [
    "def run2taskL(taskL,nitr=50):\n",
    "  ntasks = len(taskL)\n",
    "  rt = np.zeros([nitr,4,ntasks])\n",
    "  smode = np.zeros([nitr,4,ntasks])\n",
    "  sol_L = []\n",
    "  for idx,(mem,bfs) in enumerate(itertools.product([False,True],[True,False])):\n",
    "    sol_L.append([])\n",
    "    for itr in range(nitr):\n",
    "      D = treeSearch(taskL,BFS=bfs,memory=mem)\n",
    "      rt[itr,idx],smode[itr,idx] = D['rt'],D['smode']\n",
    "      sol_L[idx].append([i.valid_actions for i in D['solution_nodes']])\n",
    "  return rt,smode,np.array(sol_L)\n",
    "idxL = ['BFS','DFS','BFSm','DFSm']"
   ]
  },
  {
   "cell_type": "code",
   "execution_count": 3,
   "id": "55638db8",
   "metadata": {},
   "outputs": [],
   "source": [
    "def line_plt_rt(ax,rt):\n",
    "  for mi in range(len(idxL)):\n",
    "    M = rt.mean(0)[mi]\n",
    "    S = rt.std(0)[mi]/np.sqrt(len(rt))\n",
    "    ax.plot(M,label=idxL[mi])\n",
    "    ax.fill_between(range(len(M)),M-S,M+S,alpha=0.4)\n",
    "  ax.legend()"
   ]
  },
  {
   "cell_type": "code",
   "execution_count": 10,
   "id": "34ddcb9b",
   "metadata": {},
   "outputs": [],
   "source": [
    "from board_gen import *\n",
    "nitr=20"
   ]
  },
  {
   "cell_type": "code",
   "execution_count": 30,
   "id": "4e3715b7",
   "metadata": {},
   "outputs": [
    {
     "name": "stderr",
     "output_type": "stream",
     "text": [
      "<ipython-input-2-ab6e1d696832>:12: VisibleDeprecationWarning: Creating an ndarray from ragged nested sequences (which is a list-or-tuple of lists-or-tuples-or ndarrays with different lengths or shapes) is deprecated. If you meant to do this, you must specify 'dtype=object' when creating the ndarray.\n",
      "  return rt,smode,np.array(sol_L)\n"
     ]
    }
   ],
   "source": [
    "# bias join\n",
    "taskL_join = []\n",
    "taskL_join += [generate_board(tactic_name='bias_join',n_extra_sticks=1,contiguous=True) for i in range(2)]\n",
    "taskL_join += [generate_board(tactic_name='bias_final',n_extra_sticks=1,contiguous=True) for i in range(1)]\n",
    "# bias loose\n",
    "taskL_loose = []\n",
    "taskL_loose += [generate_board(tactic_name='bias_loose',n_extra_sticks=1,contiguous=True) for i in range(2)]\n",
    "taskL_loose += [generate_board(tactic_name='bias_final',n_extra_sticks=1,contiguous=True) for i in range(1)]\n",
    "\n",
    "rt_join,smode_join,sol_join = run2taskL(taskL_join,nitr)\n",
    "rt_loose,smode_loose,sol_loose = run2taskL(taskL_loose,nitr)"
   ]
  },
  {
   "cell_type": "code",
   "execution_count": 41,
   "id": "21832617",
   "metadata": {},
   "outputs": [
    {
     "data": {
      "text/plain": [
       "array([[array([ 7,  9, 10, 11, 12, 13, 14, 16]),\n",
       "        array([ 4,  7,  9, 10, 11, 12, 13, 14, 16]),\n",
       "        array([ 7,  9, 10, 11, 12, 13, 14, 16, 19])],\n",
       "       [array([ 7,  9, 10, 11, 12, 13, 14, 16]),\n",
       "        array([ 7,  9, 10, 11, 12, 13, 14, 16]),\n",
       "        array([ 7,  9, 10, 11, 12, 13, 14, 16, 19])]], dtype=object)"
      ]
     },
     "execution_count": 41,
     "metadata": {},
     "output_type": "execute_result"
    }
   ],
   "source": [
    "sol_loose.shape # algo,itr,trial\n",
    "sol_loose[(2,3),0,:]"
   ]
  },
  {
   "cell_type": "code",
   "execution_count": 24,
   "id": "c15e9961",
   "metadata": {},
   "outputs": [
    {
     "data": {
      "image/png": "[encoded data removed]",
      "text/plain": [
       "<Figure size 432x288 with 1 Axes>"
      ]
     },
     "metadata": {
      "needs_background": "light"
     },
     "output_type": "display_data"
    }
   ],
   "source": [
    "draw_board(plt.gca(),sol_L[3,0,4])"
   ]
  },
  {
   "cell_type": "code",
   "execution_count": 13,
   "id": "14725a03",
   "metadata": {},
   "outputs": [
    {
     "data": {
      "image/png": "[encoded data removed]",
      "text/plain": [
       "<Figure size 1080x360 with 3 Axes>"
      ]
     },
     "metadata": {
      "needs_background": "light"
     },
     "output_type": "display_data"
    }
   ],
   "source": [
    "from utils import *\n",
    "f,axar = plt.subplots(1,3,figsize=(15,5),sharex=True,sharey=True)\n",
    "ax = axar[0]\n",
    "draw_board(ax,BIAS_BOARD_LOOSE)\n",
    "ax = axar[1]\n",
    "draw_board(ax,BIAS_BOARD_JOIN)\n",
    "ax = axar[2]\n",
    "draw_board(ax,BIAS_BOARD_FINAL)"
   ]
  },
  {
   "cell_type": "code",
   "execution_count": null,
   "id": "b2639d60",
   "metadata": {},
   "outputs": [],
   "source": []
  }
 ],
 "metadata": {
  "kernelspec": {
   "display_name": "Python 3",
   "language": "python",
   "name": "python3"
  },
  "language_info": {
   "codemirror_mode": {
    "name": "ipython",
    "version": 3
   },
   "file_extension": ".py",
   "mimetype": "text/x-python",
   "name": "python",
   "nbconvert_exporter": "python",
   "pygments_lexer": "ipython3",
   "version": "3.8.8"
  }
 },
 "nbformat": 4,
 "nbformat_minor": 5
}
