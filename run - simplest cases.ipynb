{
 "cells": [
  {
   "cell_type": "code",
   "execution_count": 62,
   "id": "3e6e4c55",
   "metadata": {},
   "outputs": [
    {
     "name": "stdout",
     "output_type": "stream",
     "text": [
      "The autoreload extension is already loaded. To reload it, use:\n",
      "  %reload_ext autoreload\n"
     ]
    }
   ],
   "source": [
    "import numpy as np\n",
    "from shared import *\n",
    "from treeSearch import *\n",
    "import seaborn as sns\n",
    "from matplotlib import pyplot as plt\n",
    "import itertools\n",
    "sns.set_context('talk')\n",
    "\n",
    "%load_ext autoreload\n",
    "%reload_ext autoreload\n",
    "%autoreload 2\n",
    "%matplotlib inline"
   ]
  },
  {
   "cell_type": "markdown",
   "id": "4bc386c3",
   "metadata": {},
   "source": [
    "# single stick sticking down"
   ]
  },
  {
   "cell_type": "code",
   "execution_count": 112,
   "id": "46312611",
   "metadata": {},
   "outputs": [
    {
     "data": {
      "text/plain": [
       "<shared.Node at 0x7ffab30db880>"
      ]
     },
     "execution_count": 112,
     "metadata": {},
     "output_type": "execute_result"
    }
   ],
   "source": [
    "n = Node(form_obs([9,12,13,16]),2)\n",
    "\n",
    "n.children[0].parent\n",
    "# n.parent"
   ]
  },
  {
   "cell_type": "code",
   "execution_count": 102,
   "id": "fd96f74c",
   "metadata": {},
   "outputs": [],
   "source": [
    "def run2taskL(taskL,nitr = 50):\n",
    "  ntasks = len(taskL)\n",
    "  rt = np.zeros([nitr,4,ntasks])\n",
    "  for itr in range(nitr):\n",
    "    for idx,(mem,bfs) in enumerate(itertools.product([False,True],[True,False])):\n",
    "      rt[itr,idx] = treeSearch([t0,t1],BFS=bfs,memory=mem)\n",
    "  return rt\n",
    "idxL = ['BFS','DFS','BFSm','DFSm']"
   ]
  },
  {
   "cell_type": "markdown",
   "id": "e1680654",
   "metadata": {},
   "source": [
    "### trivial training, onestep test"
   ]
  },
  {
   "cell_type": "code",
   "execution_count": 113,
   "id": "c8a02fdb",
   "metadata": {},
   "outputs": [],
   "source": [
    "t0=Task(form_obs([9,12,13,16]),1,0)\n",
    "t1=Task(form_obs([9,12,13,16,20]),1,1)\n",
    "nitr = 100\n",
    "rt = run2taskL([t0,t1],nitr)"
   ]
  },
  {
   "cell_type": "code",
   "execution_count": 114,
   "id": "77e58eb0",
   "metadata": {},
   "outputs": [
    {
     "data": {
      "image/png": "[encoded data removed]",
      "text/plain": [
       "<Figure size 1152x288 with 2 Axes>"
      ]
     },
     "metadata": {
      "needs_background": "light"
     },
     "output_type": "display_data"
    }
   ],
   "source": [
    "f,axar = plt.subplots(1,2,sharey=True,figsize=(16,4))\n",
    "for ti in range(2):\n",
    "  ax = axar[ti]\n",
    "  ax.set_title('task%i'%ti)\n",
    "  ax.bar(idxL,rt.mean(0)[:,ti],yerr=rt.std(0)[:,ti]/np.sqrt(nitr))"
   ]
  },
  {
   "cell_type": "markdown",
   "id": "b4c068b5",
   "metadata": {},
   "source": [
    "### 1step learn twostep"
   ]
  },
  {
   "cell_type": "code",
   "execution_count": 117,
   "id": "01c4f940",
   "metadata": {},
   "outputs": [],
   "source": [
    "t0=Task(form_obs([9,12,13,16,6]),1,1)\n",
    "t1=Task(form_obs([9,12,13,16,3,7]),1,2)\n",
    "t2=Task(form_obs([9,12,13,16,6,3]),1,2)\n",
    "nitr = 100\n",
    "rt1 = run2taskL([t0,t1],nitr)\n",
    "rt2 = run2taskL([t0,t2],nitr)"
   ]
  },
  {
   "cell_type": "code",
   "execution_count": 118,
   "id": "865ee194",
   "metadata": {},
   "outputs": [
    {
     "data": {
      "image/png": "[encoded data removed]",
      "text/plain": [
       "<Figure size 1152x288 with 2 Axes>"
      ]
     },
     "metadata": {
      "needs_background": "light"
     },
     "output_type": "display_data"
    }
   ],
   "source": [
    "f,axar = plt.subplots(1,2,sharey=True,figsize=(16,4))\n",
    "for ti in range(2):\n",
    "  ax = axar[ti]\n",
    "  ax.set_title('task%i'%ti)\n",
    "  ax.bar(idxL,rt2.mean(0)[:,ti],yerr=rt2.std(0)[:,ti]/np.sqrt(nitr))"
   ]
  },
  {
   "cell_type": "code",
   "execution_count": 119,
   "id": "e542c994",
   "metadata": {},
   "outputs": [
    {
     "data": {
      "image/png": "[encoded data removed]",
      "text/plain": [
       "<Figure size 1152x288 with 2 Axes>"
      ]
     },
     "metadata": {
      "needs_background": "light"
     },
     "output_type": "display_data"
    }
   ],
   "source": [
    "f,axar = plt.subplots(1,2,sharey=True,figsize=(16,4))\n",
    "for ti in range(2):\n",
    "  ax = axar[ti]\n",
    "  ax.set_title('task%i'%ti)\n",
    "  ax.bar(idxL,rt1.mean(0)[:,ti],yerr=rt1.std(0)[:,ti]/np.sqrt(nitr))"
   ]
  },
  {
   "cell_type": "code",
   "execution_count": null,
   "id": "e4b821e9",
   "metadata": {},
   "outputs": [],
   "source": []
  },
  {
   "cell_type": "code",
   "execution_count": null,
   "id": "d84ccf5c",
   "metadata": {},
   "outputs": [],
   "source": []
  },
  {
   "cell_type": "code",
   "execution_count": null,
   "id": "81f32aa7",
   "metadata": {},
   "outputs": [],
   "source": []
  },
  {
   "cell_type": "code",
   "execution_count": null,
   "id": "a11d3f08",
   "metadata": {},
   "outputs": [],
   "source": []
  },
  {
   "cell_type": "code",
   "execution_count": 12,
   "id": "80a0b5a2",
   "metadata": {},
   "outputs": [],
   "source": [
    "def eval_nsteps(play_fn,task,nitr):\n",
    "  nsteps = np.zeros(nitr)\n",
    "  for itr in np.arange(nitr):\n",
    "    nsteps[itr] = play_fn(task)\n",
    "  return nsteps\n"
   ]
  },
  {
   "cell_type": "code",
   "execution_count": 25,
   "id": "3f7bc3ce",
   "metadata": {},
   "outputs": [
    {
     "data": {
      "text/plain": [
       "Text(0, 0.5, 'solution time')"
      ]
     },
     "execution_count": 25,
     "metadata": {},
     "output_type": "execute_result"
    },
    {
     "data": {
      "image/png": "[encoded data removed]",
      "text/plain": [
       "<Figure size 216x216 with 1 Axes>"
      ]
     },
     "metadata": {
      "needs_background": "light"
     },
     "output_type": "display_data"
    }
   ],
   "source": [
    "nitr = 100\n",
    "bfs_steps = eval_nsteps(BFSplay,task,nitr)\n",
    "dfs_steps = eval_nsteps(BFSplay,task,nitr)\n",
    "\n",
    "## plt\n",
    "xplt = ['bfs','dfs']\n",
    "yplt = [bfs_steps.mean(),\n",
    "        dfs_steps.mean()\n",
    "       ]\n",
    "yerplt = [bfs_steps.std()/np.sqrt(nitr),\n",
    "          dfs_steps.std()/np.sqrt(nitr)\n",
    "         ]\n",
    "\n",
    "f,axar = plt.subplots(1,1,figsize=(3,3))\n",
    "ax =axar\n",
    "ax.bar(xplt,yplt,yerr=yerplt)\n",
    "ax.set_ylabel('solution time')"
   ]
  },
  {
   "cell_type": "code",
   "execution_count": 28,
   "id": "bd165f51",
   "metadata": {},
   "outputs": [
    {
     "data": {
      "text/plain": [
       "<queue.Queue at 0x7fef5a1d4940>"
      ]
     },
     "execution_count": 28,
     "metadata": {},
     "output_type": "execute_result"
    }
   ],
   "source": [
    "import queue\n",
    "q1 = queue.Queue()\n",
    "q1.put(10)\n",
    "q1."
   ]
  },
  {
   "cell_type": "code",
   "execution_count": 44,
   "id": "fffa1ae0",
   "metadata": {},
   "outputs": [
    {
     "name": "stdout",
     "output_type": "stream",
     "text": [
      "0\n",
      "1\n",
      "2\n",
      "3\n",
      "4\n",
      "5\n",
      "6\n",
      "7\n",
      "8\n"
     ]
    },
    {
     "data": {
      "text/plain": [
       "array([[1., 0., 0., 1., 1., 0., 0., 1., 0., 0., 0., 0., 0., 0., 0., 0.,\n",
       "        0., 0., 0., 0., 0., 0., 0., 0.],\n",
       "       [0., 1., 0., 0., 1., 1., 0., 0., 1., 0., 0., 0., 0., 0., 0., 0.,\n",
       "        0., 0., 0., 0., 0., 0., 0., 0.],\n",
       "       [0., 0., 1., 0., 0., 1., 1., 0., 0., 1., 0., 0., 0., 0., 0., 0.,\n",
       "        0., 0., 0., 0., 0., 0., 0., 0.],\n",
       "       [0., 0., 0., 0., 0., 0., 0., 1., 0., 0., 1., 1., 0., 0., 1., 0.,\n",
       "        0., 0., 0., 0., 0., 0., 0., 0.],\n",
       "       [0., 0., 0., 0., 0., 0., 0., 0., 1., 0., 0., 1., 1., 0., 0., 1.,\n",
       "        0., 0., 0., 0., 0., 0., 0., 0.],\n",
       "       [0., 0., 0., 0., 0., 0., 0., 0., 0., 1., 0., 0., 1., 1., 0., 0.,\n",
       "        1., 0., 0., 0., 0., 0., 0., 0.],\n",
       "       [0., 0., 0., 0., 0., 0., 0., 0., 0., 0., 0., 0., 0., 0., 1., 0.,\n",
       "        0., 1., 1., 0., 0., 1., 0., 0.],\n",
       "       [0., 0., 0., 0., 0., 0., 0., 0., 0., 0., 0., 0., 0., 0., 0., 1.,\n",
       "        0., 0., 1., 1., 0., 0., 1., 0.],\n",
       "       [0., 0., 0., 0., 0., 0., 0., 0., 0., 0., 0., 0., 0., 0., 0., 0.,\n",
       "        1., 0., 0., 1., 1., 0., 0., 1.]])"
      ]
     },
     "execution_count": 44,
     "metadata": {},
     "output_type": "execute_result"
    }
   ],
   "source": [
    "COUNT_SQUARE_IDX = [\n",
    "    [1,4,5,8], # ones in first row\n",
    "    [2,5,6,9], # ones in second row\n",
    "    [3,6,7,10],\n",
    "    [8,11,12,15],\n",
    "    [9,12,13,16],\n",
    "    [10,13,14,17],\n",
    "    [15,18,19,22],\n",
    "    [16,19,20,23],\n",
    "    [17,20,21,24]\n",
    "]\n",
    "\n",
    "COUNT_SQUARE_MATRIX = np.zeros([9,24])\n",
    "for idx_row,idx_col in enumerate(COUNT_SQUARE_IDX):\n",
    "  M[idx_row,np.array(idx_col)-1] = 1"
   ]
  }
 ],
 "metadata": {
  "kernelspec": {
   "display_name": "Python 3",
   "language": "python",
   "name": "python3"
  },
  "language_info": {
   "codemirror_mode": {
    "name": "ipython",
    "version": 3
   },
   "file_extension": ".py",
   "mimetype": "text/x-python",
   "name": "python",
   "nbconvert_exporter": "python",
   "pygments_lexer": "ipython3",
   "version": "3.8.8"
  }
 },
 "nbformat": 4,
 "nbformat_minor": 5
}
