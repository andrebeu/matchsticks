{
 "cells": [
  {
   "cell_type": "code",
   "execution_count": 1,
   "id": "3e6e4c55",
   "metadata": {},
   "outputs": [],
   "source": [
    "import numpy as np\n",
    "from shared import *\n",
    "from treeSearch import *\n",
    "import seaborn as sns\n",
    "from matplotlib import pyplot as plt\n",
    "import itertools\n",
    "sns.set_context('talk')\n",
    "\n",
    "%load_ext autoreload\n",
    "%reload_ext autoreload\n",
    "%autoreload 2\n",
    "%matplotlib inline"
   ]
  },
  {
   "cell_type": "markdown",
   "id": "4bc386c3",
   "metadata": {},
   "source": [
    "# single stick sticking down"
   ]
  },
  {
   "cell_type": "code",
   "execution_count": 2,
   "id": "fd96f74c",
   "metadata": {},
   "outputs": [],
   "source": [
    "def run2taskL(taskL,nitr=50):\n",
    "  ntasks = len(taskL)\n",
    "  rt = np.zeros([nitr,4,ntasks])\n",
    "  smode = np.zeros([nitr,4,ntasks])\n",
    "  for itr in range(nitr):\n",
    "    for idx,(mem,bfs) in enumerate(itertools.product([False,True],[True,False])):\n",
    "      D = treeSearch(taskL,BFS=bfs,memory_flag=mem)\n",
    "      rt[itr,idx],smode[itr,idx] = D['rt'],D['smode']\n",
    "  return rt,smode\n",
    "idxL = ['BFS','DFS','BFSm','DFSm']"
   ]
  },
  {
   "cell_type": "markdown",
   "id": "e1680654",
   "metadata": {},
   "source": [
    "### trivial training, onestep test"
   ]
  },
  {
   "cell_type": "code",
   "execution_count": 3,
   "id": "c8a02fdb",
   "metadata": {},
   "outputs": [
    {
     "ename": "TypeError",
     "evalue": "treeSearch() got an unexpected keyword argument 'memory'",
     "output_type": "error",
     "traceback": [
      "\u001b[0;31m---------------------------------------------------------------------------\u001b[0m",
      "\u001b[0;31mTypeError\u001b[0m                                 Traceback (most recent call last)",
      "\u001b[0;32m<ipython-input-3-fd283e67e0da>\u001b[0m in \u001b[0;36m<module>\u001b[0;34m\u001b[0m\n\u001b[1;32m      2\u001b[0m \u001b[0mt1\u001b[0m\u001b[0;34m=\u001b[0m\u001b[0mTask\u001b[0m\u001b[0;34m(\u001b[0m\u001b[0mform_obs\u001b[0m\u001b[0;34m(\u001b[0m\u001b[0;34m[\u001b[0m\u001b[0;36m9\u001b[0m\u001b[0;34m,\u001b[0m\u001b[0;36m12\u001b[0m\u001b[0;34m,\u001b[0m\u001b[0;36m13\u001b[0m\u001b[0;34m,\u001b[0m\u001b[0;36m16\u001b[0m\u001b[0;34m,\u001b[0m\u001b[0;36m20\u001b[0m\u001b[0;34m]\u001b[0m\u001b[0;34m)\u001b[0m\u001b[0;34m,\u001b[0m\u001b[0;36m1\u001b[0m\u001b[0;34m,\u001b[0m\u001b[0;36m1\u001b[0m\u001b[0;34m)\u001b[0m\u001b[0;34m\u001b[0m\u001b[0;34m\u001b[0m\u001b[0m\n\u001b[1;32m      3\u001b[0m \u001b[0mnitr\u001b[0m \u001b[0;34m=\u001b[0m \u001b[0;36m1\u001b[0m\u001b[0;34m\u001b[0m\u001b[0;34m\u001b[0m\u001b[0m\n\u001b[0;32m----> 4\u001b[0;31m \u001b[0mrt\u001b[0m\u001b[0;34m,\u001b[0m\u001b[0msmode\u001b[0m \u001b[0;34m=\u001b[0m \u001b[0mrun2taskL\u001b[0m\u001b[0;34m(\u001b[0m\u001b[0;34m[\u001b[0m\u001b[0mt0\u001b[0m\u001b[0;34m,\u001b[0m\u001b[0mt1\u001b[0m\u001b[0;34m]\u001b[0m\u001b[0;34m,\u001b[0m\u001b[0mnitr\u001b[0m\u001b[0;34m)\u001b[0m\u001b[0;34m\u001b[0m\u001b[0;34m\u001b[0m\u001b[0m\n\u001b[0m",
      "\u001b[0;32m<ipython-input-2-8446e889564d>\u001b[0m in \u001b[0;36mrun2taskL\u001b[0;34m(taskL, nitr)\u001b[0m\n\u001b[1;32m      5\u001b[0m   \u001b[0;32mfor\u001b[0m \u001b[0mitr\u001b[0m \u001b[0;32min\u001b[0m \u001b[0mrange\u001b[0m\u001b[0;34m(\u001b[0m\u001b[0mnitr\u001b[0m\u001b[0;34m)\u001b[0m\u001b[0;34m:\u001b[0m\u001b[0;34m\u001b[0m\u001b[0;34m\u001b[0m\u001b[0m\n\u001b[1;32m      6\u001b[0m     \u001b[0;32mfor\u001b[0m \u001b[0midx\u001b[0m\u001b[0;34m,\u001b[0m\u001b[0;34m(\u001b[0m\u001b[0mmem\u001b[0m\u001b[0;34m,\u001b[0m\u001b[0mbfs\u001b[0m\u001b[0;34m)\u001b[0m \u001b[0;32min\u001b[0m \u001b[0menumerate\u001b[0m\u001b[0;34m(\u001b[0m\u001b[0mitertools\u001b[0m\u001b[0;34m.\u001b[0m\u001b[0mproduct\u001b[0m\u001b[0;34m(\u001b[0m\u001b[0;34m[\u001b[0m\u001b[0;32mFalse\u001b[0m\u001b[0;34m,\u001b[0m\u001b[0;32mTrue\u001b[0m\u001b[0;34m]\u001b[0m\u001b[0;34m,\u001b[0m\u001b[0;34m[\u001b[0m\u001b[0;32mTrue\u001b[0m\u001b[0;34m,\u001b[0m\u001b[0;32mFalse\u001b[0m\u001b[0;34m]\u001b[0m\u001b[0;34m)\u001b[0m\u001b[0;34m)\u001b[0m\u001b[0;34m:\u001b[0m\u001b[0;34m\u001b[0m\u001b[0;34m\u001b[0m\u001b[0m\n\u001b[0;32m----> 7\u001b[0;31m       \u001b[0mD\u001b[0m \u001b[0;34m=\u001b[0m \u001b[0mtreeSearch\u001b[0m\u001b[0;34m(\u001b[0m\u001b[0mtaskL\u001b[0m\u001b[0;34m,\u001b[0m\u001b[0mBFS\u001b[0m\u001b[0;34m=\u001b[0m\u001b[0mbfs\u001b[0m\u001b[0;34m,\u001b[0m\u001b[0mmemory\u001b[0m\u001b[0;34m=\u001b[0m\u001b[0mmem\u001b[0m\u001b[0;34m)\u001b[0m\u001b[0;34m\u001b[0m\u001b[0;34m\u001b[0m\u001b[0m\n\u001b[0m\u001b[1;32m      8\u001b[0m       \u001b[0mrt\u001b[0m\u001b[0;34m[\u001b[0m\u001b[0mitr\u001b[0m\u001b[0;34m,\u001b[0m\u001b[0midx\u001b[0m\u001b[0;34m]\u001b[0m\u001b[0;34m,\u001b[0m\u001b[0msmode\u001b[0m\u001b[0;34m[\u001b[0m\u001b[0mitr\u001b[0m\u001b[0;34m,\u001b[0m\u001b[0midx\u001b[0m\u001b[0;34m]\u001b[0m \u001b[0;34m=\u001b[0m \u001b[0mD\u001b[0m\u001b[0;34m[\u001b[0m\u001b[0;34m'rt'\u001b[0m\u001b[0;34m]\u001b[0m\u001b[0;34m,\u001b[0m\u001b[0mD\u001b[0m\u001b[0;34m[\u001b[0m\u001b[0;34m'smode'\u001b[0m\u001b[0;34m]\u001b[0m\u001b[0;34m\u001b[0m\u001b[0;34m\u001b[0m\u001b[0m\n\u001b[1;32m      9\u001b[0m   \u001b[0;32mreturn\u001b[0m \u001b[0mrt\u001b[0m\u001b[0;34m,\u001b[0m\u001b[0msmode\u001b[0m\u001b[0;34m\u001b[0m\u001b[0;34m\u001b[0m\u001b[0m\n",
      "\u001b[0;31mTypeError\u001b[0m: treeSearch() got an unexpected keyword argument 'memory'"
     ]
    }
   ],
   "source": [
    "t0=Task(form_obs([9,12,13,16]),1,0)\n",
    "t1=Task(form_obs([9,12,13,16,20]),1,1)\n",
    "nitr = 1\n",
    "rt,smode = run2taskL([t0,t1],nitr)"
   ]
  },
  {
   "cell_type": "code",
   "execution_count": null,
   "id": "77e58eb0",
   "metadata": {},
   "outputs": [],
   "source": [
    "f,axar = plt.subplots(1,2,sharey=True,figsize=(16,4))\n",
    "for ti in range(2):\n",
    "  ax = axar[ti]\n",
    "  ax.set_title('task%i'%ti)\n",
    "  ax.bar(idxL,rt.mean(0)[:,ti],yerr=rt.std(0)[:,ti]/np.sqrt(nitr))"
   ]
  },
  {
   "cell_type": "markdown",
   "id": "b4c068b5",
   "metadata": {},
   "source": [
    "### 1step learn twostep"
   ]
  },
  {
   "cell_type": "code",
   "execution_count": null,
   "id": "01c4f940",
   "metadata": {},
   "outputs": [],
   "source": [
    "t0=Task(form_obs([9,12,13,16, 6]),1,1)\n",
    "t1=Task(form_obs([9,12,13,16, 6,3]),1,2)\n",
    "t2=Task(form_obs([9,12,13,16, 3,7]),1,2)\n",
    "nitr=1"
   ]
  },
  {
   "cell_type": "code",
   "execution_count": null,
   "id": "677419bc",
   "metadata": {
    "scrolled": true
   },
   "outputs": [],
   "source": [
    "## transfer\n",
    "rt1,smode1 = run2taskL([t0,t1],nitr)\n",
    "rt1.mean(0)"
   ]
  },
  {
   "cell_type": "code",
   "execution_count": null,
   "id": "865ee194",
   "metadata": {},
   "outputs": [],
   "source": [
    "# fig\n",
    "f,axar = plt.subplots(1,2,sharey=True,figsize=(16,4))\n",
    "for ti in range(2):\n",
    "  ax = axar[ti]\n",
    "  ax.set_title('task%i'%ti)\n",
    "  ax.bar(idxL,rt1.mean(0)[:,ti],yerr=rt1.std(0)[:,ti]/np.sqrt(nitr))\n",
    "  \n",
    "plt.savefig('figures/rt-transfer')"
   ]
  },
  {
   "cell_type": "code",
   "execution_count": null,
   "id": "bd5b61ff",
   "metadata": {},
   "outputs": [],
   "source": [
    "f,ax = plt.subplots(1,1,figsize=(8,3))\n",
    "ax.bar(idxL[2:],smode1.mean(0)[2:,1],yerr=smode1.std(0)[2:,1]/np.sqrt(100))\n",
    "ax.set_ylabel('memory use')\n",
    "plt.savefig('figures/mem-transfer')"
   ]
  },
  {
   "cell_type": "markdown",
   "id": "0b772b13",
   "metadata": {},
   "source": [
    "### expect no transfer"
   ]
  },
  {
   "cell_type": "code",
   "execution_count": null,
   "id": "adceb253",
   "metadata": {
    "scrolled": true
   },
   "outputs": [],
   "source": [
    "## no transfer\n",
    "t0=Task(form_obs([9,12,13,16, 6]),1,1)\n",
    "t2=Task(form_obs([9,12,13,16, 3,7]),1,2)\n",
    "rt2,smode2 = run2taskL([t0,t2],nitr=100)\n",
    "rt2.mean(0)"
   ]
  },
  {
   "cell_type": "code",
   "execution_count": null,
   "id": "e542c994",
   "metadata": {},
   "outputs": [],
   "source": [
    "# fig\n",
    "f,axar = plt.subplots(1,2,sharey=True,figsize=(16,4))\n",
    "for ti in range(2):\n",
    "  ax = axar[ti]\n",
    "  ax.set_title('task%i'%ti)\n",
    "  ax.bar(idxL,rt2.mean(0)[:,ti],yerr=rt2.std(0)[:,ti]/np.sqrt(nitr))\n",
    "plt.savefig('figures/rt-notransfer')"
   ]
  },
  {
   "cell_type": "code",
   "execution_count": null,
   "id": "e4b821e9",
   "metadata": {},
   "outputs": [],
   "source": [
    "f,ax = plt.subplots(1,1,figsize=(8,3))\n",
    "ax.bar(idxL[2:],smode2.mean(0)[2:,1],yerr=smode2.std(0)[2:,1]/np.sqrt(nitr))\n",
    "ax.set_ylabel('memory use')"
   ]
  },
  {
   "cell_type": "markdown",
   "id": "d54e0754",
   "metadata": {},
   "source": [
    "### draw"
   ]
  },
  {
   "cell_type": "code",
   "execution_count": null,
   "id": "a9ce285f",
   "metadata": {},
   "outputs": [],
   "source": [
    "from utils import *\n",
    "base=form_obs([9,12,13,16, 6])\n",
    "trans=form_obs([9,12,13,16, 6,3])\n",
    "notrans=form_obs([9,12,13,16, 3,7])\n",
    "draw_board(plt.gca(),base)"
   ]
  },
  {
   "cell_type": "code",
   "execution_count": null,
   "id": "d4f5bcd8",
   "metadata": {},
   "outputs": [],
   "source": []
  }
 ],
 "metadata": {
  "kernelspec": {
   "display_name": "Python 3",
   "language": "python",
   "name": "python3"
  },
  "language_info": {
   "codemirror_mode": {
    "name": "ipython",
    "version": 3
   },
   "file_extension": ".py",
   "mimetype": "text/x-python",
   "name": "python",
   "nbconvert_exporter": "python",
   "pygments_lexer": "ipython3",
   "version": "3.8.8"
  }
 },
 "nbformat": 4,
 "nbformat_minor": 5
}
