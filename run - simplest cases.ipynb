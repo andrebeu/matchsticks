{
 "cells": [
  {
   "cell_type": "code",
   "execution_count": 62,
   "id": "2aca5802",
   "metadata": {},
   "outputs": [
    {
     "name": "stdout",
     "output_type": "stream",
     "text": [
      "The autoreload extension is already loaded. To reload it, use:\n",
      "  %reload_ext autoreload\n"
     ]
    }
   ],
   "source": [
    "import numpy as np\n",
    "from shared import *\n",
    "from treeSearch import *\n",
    "import seaborn as sns\n",
    "from matplotlib import pyplot as plt\n",
    "import itertools\n",
    "sns.set_context('talk')\n",
    "\n",
    "%load_ext autoreload\n",
    "%reload_ext autoreload\n",
    "%autoreload 2\n",
    "%matplotlib inline"
   ]
  },
  {
   "cell_type": "markdown",
   "id": "b1cc2b79",
   "metadata": {},
   "source": [
    "# single stick sticking down"
   ]
  },
  {
   "cell_type": "code",
   "execution_count": 102,
   "id": "d25ddfd1",
   "metadata": {},
   "outputs": [],
   "source": [
    "def run2taskL(taskL,nitr = 50):\n",
    "  ntasks = len(taskL)\n",
    "  rt = np.zeros([nitr,4,ntasks])\n",
    "  for itr in range(nitr):\n",
    "    for idx,(mem,bfs) in enumerate(itertools.product([False,True],[True,False])):\n",
    "      rt[itr,idx] = treeSearch([t0,t1],BFS=bfs,memory=mem)\n",
    "  return rt\n",
    "idxL = ['BFS','DFS','BFSm','DFSm']"
   ]
  },
  {
   "cell_type": "markdown",
   "id": "d4281444",
   "metadata": {},
   "source": [
    "### trivial training, onestep test"
   ]
  },
  {
   "cell_type": "code",
   "execution_count": 103,
   "id": "f786d93c",
   "metadata": {},
   "outputs": [],
   "source": [
    "t0=Task(form_obs([9,12,13,16]),1,0)\n",
    "t1=Task(form_obs([9,12,13,16,20]),1,1)\n",
    "nitr = 100\n",
    "rt = run2taskL([t0,t1],nitr)"
   ]
  },
  {
   "cell_type": "code",
   "execution_count": 104,
   "id": "7564fd15",
   "metadata": {},
   "outputs": [
    {
     "data": {
      "image/png": "[encoded data removed]",
      "text/plain": [
       "<Figure size 1152x288 with 2 Axes>"
      ]
     },
     "metadata": {
      "needs_background": "light"
     },
     "output_type": "display_data"
    }
   ],
   "source": [
    "f,axar = plt.subplots(1,2,sharey=True,figsize=(16,4))\n",
    "for ti in range(2):\n",
    "  ax = axar[ti]\n",
    "  ax.set_title('task%i'%ti)\n",
    "  ax.bar(idxL,rt.mean(0)[:,ti],yerr=rt.std(0)[:,ti]/np.sqrt(nitr))"
   ]
  },
  {
   "cell_type": "markdown",
   "id": "7fb88e55",
   "metadata": {},
   "source": [
    "### 1step learn twostep"
   ]
  },
  {
   "cell_type": "code",
   "execution_count": 69,
   "id": "52fbb6d4",
   "metadata": {},
   "outputs": [
    {
     "data": {
      "text/plain": [
       "[[1, 3], [1, 5], [1, 2], [1, 4]]"
      ]
     },
     "execution_count": 69,
     "metadata": {},
     "output_type": "execute_result"
    }
   ],
   "source": [
    "t0=Task(form_obs([9,12,13,16,20]),1,0)\n",
    "t1=Task(form_obs([9,12,13,16,20]),1,1)\n",
    "nitr = 100\n",
    "rt = run2taskL([t0,t1],nitr)"
   ]
  },
  {
   "cell_type": "code",
   "execution_count": null,
   "id": "8b789654",
   "metadata": {},
   "outputs": [],
   "source": [
    "f,axar = plt.subplots(1,2,sharey=True,figsize=(16,4))\n",
    "for ti in range(2):\n",
    "  ax = axar[ti]\n",
    "  ax.set_title('task%i'%ti)\n",
    "  ax.bar(idxL,rt.mean(0)[:,ti],yerr=rt.std(0)[:,ti]/np.sqrt(nitr))"
   ]
  },
  {
   "cell_type": "markdown",
   "id": "9c24a63d",
   "metadata": {},
   "source": []
  },
  {
   "cell_type": "code",
   "execution_count": null,
   "id": "1089a1f3",
   "metadata": {},
   "outputs": [],
   "source": []
  },
  {
   "cell_type": "code",
   "execution_count": null,
   "id": "4e5b123a",
   "metadata": {},
   "outputs": [],
   "source": []
  },
  {
   "cell_type": "code",
   "execution_count": null,
   "id": "e7c53004",
   "metadata": {},
   "outputs": [],
   "source": []
  },
  {
   "cell_type": "code",
   "execution_count": null,
   "id": "a507eac2",
   "metadata": {},
   "outputs": [],
   "source": []
  },
  {
   "cell_type": "code",
   "execution_count": null,
   "id": "47fcfa80",
   "metadata": {},
   "outputs": [],
   "source": []
  },
  {
   "cell_type": "code",
   "execution_count": 12,
   "id": "618b09ba",
   "metadata": {},
   "outputs": [],
   "source": [
    "def eval_nsteps(play_fn,task,nitr):\n",
    "  nsteps = np.zeros(nitr)\n",
    "  for itr in np.arange(nitr):\n",
    "    nsteps[itr] = play_fn(task)\n",
    "  return nsteps\n"
   ]
  },
  {
   "cell_type": "code",
   "execution_count": 25,
   "id": "7efec148",
   "metadata": {},
   "outputs": [
    {
     "data": {
      "text/plain": [
       "Text(0, 0.5, 'solution time')"
      ]
     },
     "execution_count": 25,
     "metadata": {},
     "output_type": "execute_result"
    },
    {
     "data": {
      "image/png": "[encoded data removed]",
      "text/plain": [
       "<Figure size 216x216 with 1 Axes>"
      ]
     },
     "metadata": {
      "needs_background": "light"
     },
     "output_type": "display_data"
    }
   ],
   "source": [
    "nitr = 100\n",
    "bfs_steps = eval_nsteps(BFSplay,task,nitr)\n",
    "dfs_steps = eval_nsteps(BFSplay,task,nitr)\n",
    "\n",
    "## plt\n",
    "xplt = ['bfs','dfs']\n",
    "yplt = [bfs_steps.mean(),\n",
    "        dfs_steps.mean()\n",
    "       ]\n",
    "yerplt = [bfs_steps.std()/np.sqrt(nitr),\n",
    "          dfs_steps.std()/np.sqrt(nitr)\n",
    "         ]\n",
    "\n",
    "f,axar = plt.subplots(1,1,figsize=(3,3))\n",
    "ax =axar\n",
    "ax.bar(xplt,yplt,yerr=yerplt)\n",
    "ax.set_ylabel('solution time')"
   ]
  },
  {
   "cell_type": "code",
   "execution_count": 28,
   "id": "5969d27a",
   "metadata": {},
   "outputs": [
    {
     "data": {
      "text/plain": [
       "<queue.Queue at 0x7fef5a1d4940>"
      ]
     },
     "execution_count": 28,
     "metadata": {},
     "output_type": "execute_result"
    }
   ],
   "source": [
    "import queue\n",
    "q1 = queue.Queue()\n",
    "q1.put(10)\n",
    "q1."
   ]
  },
  {
   "cell_type": "code",
   "execution_count": 44,
   "id": "b6aded3c",
   "metadata": {},
   "outputs": [
    {
     "name": "stdout",
     "output_type": "stream",
     "text": [
      "0\n",
      "1\n",
      "2\n",
      "3\n",
      "4\n",
      "5\n",
      "6\n",
      "7\n",
      "8\n"
     ]
    },
    {
     "data": {
      "text/plain": [
       "array([[1., 0., 0., 1., 1., 0., 0., 1., 0., 0., 0., 0., 0., 0., 0., 0.,\n",
       "        0., 0., 0., 0., 0., 0., 0., 0.],\n",
       "       [0., 1., 0., 0., 1., 1., 0., 0., 1., 0., 0., 0., 0., 0., 0., 0.,\n",
       "        0., 0., 0., 0., 0., 0., 0., 0.],\n",
       "       [0., 0., 1., 0., 0., 1., 1., 0., 0., 1., 0., 0., 0., 0., 0., 0.,\n",
       "        0., 0., 0., 0., 0., 0., 0., 0.],\n",
       "       [0., 0., 0., 0., 0., 0., 0., 1., 0., 0., 1., 1., 0., 0., 1., 0.,\n",
       "        0., 0., 0., 0., 0., 0., 0., 0.],\n",
       "       [0., 0., 0., 0., 0., 0., 0., 0., 1., 0., 0., 1., 1., 0., 0., 1.,\n",
       "        0., 0., 0., 0., 0., 0., 0., 0.],\n",
       "       [0., 0., 0., 0., 0., 0., 0., 0., 0., 1., 0., 0., 1., 1., 0., 0.,\n",
       "        1., 0., 0., 0., 0., 0., 0., 0.],\n",
       "       [0., 0., 0., 0., 0., 0., 0., 0., 0., 0., 0., 0., 0., 0., 1., 0.,\n",
       "        0., 1., 1., 0., 0., 1., 0., 0.],\n",
       "       [0., 0., 0., 0., 0., 0., 0., 0., 0., 0., 0., 0., 0., 0., 0., 1.,\n",
       "        0., 0., 1., 1., 0., 0., 1., 0.],\n",
       "       [0., 0., 0., 0., 0., 0., 0., 0., 0., 0., 0., 0., 0., 0., 0., 0.,\n",
       "        1., 0., 0., 1., 1., 0., 0., 1.]])"
      ]
     },
     "execution_count": 44,
     "metadata": {},
     "output_type": "execute_result"
    }
   ],
   "source": [
    "COUNT_SQUARE_IDX = [\n",
    "    [1,4,5,8], # ones in first row\n",
    "    [2,5,6,9], # ones in second row\n",
    "    [3,6,7,10],\n",
    "    [8,11,12,15],\n",
    "    [9,12,13,16],\n",
    "    [10,13,14,17],\n",
    "    [15,18,19,22],\n",
    "    [16,19,20,23],\n",
    "    [17,20,21,24]\n",
    "]\n",
    "\n",
    "COUNT_SQUARE_MATRIX = np.zeros([9,24])\n",
    "for idx_row,idx_col in enumerate(COUNT_SQUARE_IDX):\n",
    "  M[idx_row,np.array(idx_col)-1] = 1"
   ]
  }
 ],
 "metadata": {
  "kernelspec": {
   "display_name": "Python 3",
   "language": "python",
   "name": "python3"
  },
  "language_info": {
   "codemirror_mode": {
    "name": "ipython",
    "version": 3
   },
   "file_extension": ".py",
   "mimetype": "text/x-python",
   "name": "python",
   "nbconvert_exporter": "python",
   "pygments_lexer": "ipython3",
   "version": "3.8.8"
  }
 },
 "nbformat": 4,
 "nbformat_minor": 5
}
