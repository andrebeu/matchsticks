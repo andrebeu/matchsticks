{
 "cells": [
  {
   "cell_type": "code",
   "execution_count": 1,
   "id": "3e6e4c55",
   "metadata": {},
   "outputs": [],
   "source": [
    "import numpy as np\n",
    "from shared import *\n",
    "from treeSearch import *\n",
    "import seaborn as sns\n",
    "from matplotlib import pyplot as plt\n",
    "import itertools\n",
    "sns.set_context('talk')\n",
    "\n",
    "%load_ext autoreload\n",
    "%reload_ext autoreload\n",
    "%autoreload 2\n",
    "%matplotlib inline"
   ]
  },
  {
   "cell_type": "markdown",
   "id": "4bc386c3",
   "metadata": {},
   "source": [
    "# single stick sticking down"
   ]
  },
  {
   "cell_type": "code",
   "execution_count": 13,
   "id": "fd96f74c",
   "metadata": {},
   "outputs": [],
   "source": [
    "def run2taskL(taskL,nitr=50):\n",
    "  ntasks = len(taskL)\n",
    "  rt = np.zeros([nitr,4,ntasks])\n",
    "  smode = np.zeros([nitr,4,ntasks])\n",
    "  for itr in range(nitr):\n",
    "    for idx,(mem,bfs) in enumerate(itertools.product([False,True],[True,False])):\n",
    "      rt[itr,idx],smode[itr,idx] = treeSearch([t0,t1],BFS=bfs,memory=mem)\n",
    "  return rt,smode\n",
    "idxL = ['BFS','DFS','BFSm','DFSm']"
   ]
  },
  {
   "cell_type": "markdown",
   "id": "e1680654",
   "metadata": {},
   "source": [
    "### trivial training, onestep test"
   ]
  },
  {
   "cell_type": "code",
   "execution_count": 14,
   "id": "c8a02fdb",
   "metadata": {},
   "outputs": [],
   "source": [
    "t0=Task(form_obs([9,12,13,16]),1,0)\n",
    "t1=Task(form_obs([9,12,13,16,20]),1,1)\n",
    "nitr = 100\n",
    "rt,smode = run2taskL([t0,t1],nitr)"
   ]
  },
  {
   "cell_type": "code",
   "execution_count": 15,
   "id": "77e58eb0",
   "metadata": {},
   "outputs": [
    {
     "data": {
      "image/png": "[encoded data removed]",
      "text/plain": [
       "<Figure size 1152x288 with 2 Axes>"
      ]
     },
     "metadata": {
      "needs_background": "light"
     },
     "output_type": "display_data"
    }
   ],
   "source": [
    "f,axar = plt.subplots(1,2,sharey=True,figsize=(16,4))\n",
    "for ti in range(2):\n",
    "  ax = axar[ti]\n",
    "  ax.set_title('task%i'%ti)\n",
    "  ax.bar(idxL,rt.mean(0)[:,ti],yerr=rt.std(0)[:,ti]/np.sqrt(nitr))"
   ]
  },
  {
   "cell_type": "markdown",
   "id": "b4c068b5",
   "metadata": {},
   "source": [
    "### 1step learn twostep"
   ]
  },
  {
   "cell_type": "code",
   "execution_count": 16,
   "id": "01c4f940",
   "metadata": {},
   "outputs": [],
   "source": [
    "t0=Task(form_obs([9,12,13,16, 6]),1,1)\n",
    "t1=Task(form_obs([9,12,13,16, 6,3]),1,2)\n",
    "t2=Task(form_obs([9,12,13,16, 3,7]),1,2)"
   ]
  },
  {
   "cell_type": "code",
   "execution_count": 29,
   "id": "b398dd64",
   "metadata": {},
   "outputs": [
    {
     "data": {
      "text/plain": [
       "array([[ 4.11, 17.38],\n",
       "       [ 3.86, 11.73],\n",
       "       [ 3.93,  5.36],\n",
       "       [ 4.03, 12.15]])"
      ]
     },
     "execution_count": 29,
     "metadata": {},
     "output_type": "execute_result"
    }
   ],
   "source": [
    "## transfer\n",
    "rt1,smode = run2taskL([t0,t1],nitr=100)\n",
    "rt1.mean(0)"
   ]
  },
  {
   "cell_type": "code",
   "execution_count": 20,
   "id": "865ee194",
   "metadata": {},
   "outputs": [
    {
     "data": {
      "image/png": "[encoded data removed]",
      "text/plain": [
       "<Figure size 1152x288 with 2 Axes>"
      ]
     },
     "metadata": {
      "needs_background": "light"
     },
     "output_type": "display_data"
    }
   ],
   "source": [
    "# fig\n",
    "f,axar = plt.subplots(1,2,sharey=True,figsize=(16,4))\n",
    "for ti in range(2):\n",
    "  ax = axar[ti]\n",
    "  ax.set_title('task%i'%ti)\n",
    "  ax.bar(idxL,rt1.mean(0)[:,ti],yerr=rt1.std(0)[:,ti]/np.sqrt(nitr))"
   ]
  },
  {
   "cell_type": "code",
   "execution_count": 42,
   "id": "4166ff0e",
   "metadata": {},
   "outputs": [
    {
     "data": {
      "text/plain": [
       "Text(0, 0.5, 'memory use')"
      ]
     },
     "execution_count": 42,
     "metadata": {},
     "output_type": "execute_result"
    },
    {
     "data": {
      "image/png": "[encoded data removed]",
      "text/plain": [
       "<Figure size 576x216 with 1 Axes>"
      ]
     },
     "metadata": {
      "needs_background": "light"
     },
     "output_type": "display_data"
    }
   ],
   "source": [
    "f,ax = plt.subplots(1,1,figsize=(8,3))\n",
    "ax.bar(idxL[2:],smode.mean(0)[2:,1],yerr=smode.std(0)[2:,1]/np.sqrt(100))\n",
    "ax.set_ylabel('memory use')"
   ]
  },
  {
   "cell_type": "markdown",
   "id": "300f7ba2",
   "metadata": {},
   "source": [
    "### expect no transfer"
   ]
  },
  {
   "cell_type": "code",
   "execution_count": 28,
   "id": "951dd95a",
   "metadata": {},
   "outputs": [
    {
     "data": {
      "text/plain": [
       "array([[ 3.92, 17.48],\n",
       "       [ 4.25, 13.42],\n",
       "       [ 4.1 ,  5.22],\n",
       "       [ 3.85, 12.62]])"
      ]
     },
     "execution_count": 28,
     "metadata": {},
     "output_type": "execute_result"
    }
   ],
   "source": [
    "## no transfer\n",
    "t0=Task(form_obs([9,12,13,16, 6]),1,1)\n",
    "t2=Task(form_obs([9,12,13,16, 3,7]),1,2)\n",
    "rt2,smode = run2taskL([t0,t2],nitr)\n",
    "rt2.mean(0)"
   ]
  },
  {
   "cell_type": "code",
   "execution_count": 27,
   "id": "e542c994",
   "metadata": {},
   "outputs": [
    {
     "data": {
      "image/png": "[encoded data removed]",
      "text/plain": [
       "<Figure size 1152x288 with 2 Axes>"
      ]
     },
     "metadata": {
      "needs_background": "light"
     },
     "output_type": "display_data"
    }
   ],
   "source": [
    "# fig\n",
    "f,axar = plt.subplots(1,2,sharey=True,figsize=(16,4))\n",
    "for ti in range(2):\n",
    "  ax = axar[ti]\n",
    "  ax.set_title('task%i'%ti)\n",
    "  ax.bar(idxL,rt2.mean(0)[:,ti],yerr=rt2.std(0)[:,ti]/np.sqrt(nitr))"
   ]
  },
  {
   "cell_type": "code",
   "execution_count": 24,
   "id": "e4b821e9",
   "metadata": {},
   "outputs": [
    {
     "data": {
      "text/plain": [
       "array([[0. , 0. ],\n",
       "       [0. , 0. ],\n",
       "       [0. , 1. ],\n",
       "       [0. , 0.8]])"
      ]
     },
     "execution_count": 24,
     "metadata": {},
     "output_type": "execute_result"
    }
   ],
   "source": [
    "smode.mean(0)"
   ]
  },
  {
   "cell_type": "code",
   "execution_count": null,
   "id": "d84ccf5c",
   "metadata": {},
   "outputs": [],
   "source": []
  },
  {
   "cell_type": "code",
   "execution_count": null,
   "id": "81f32aa7",
   "metadata": {},
   "outputs": [],
   "source": []
  },
  {
   "cell_type": "code",
   "execution_count": null,
   "id": "a11d3f08",
   "metadata": {},
   "outputs": [],
   "source": []
  }
 ],
 "metadata": {
  "kernelspec": {
   "display_name": "Python 3",
   "language": "python",
   "name": "python3"
  },
  "language_info": {
   "codemirror_mode": {
    "name": "ipython",
    "version": 3
   },
   "file_extension": ".py",
   "mimetype": "text/x-python",
   "name": "python",
   "nbconvert_exporter": "python",
   "pygments_lexer": "ipython3",
   "version": "3.8.8"
  }
 },
 "nbformat": 4,
 "nbformat_minor": 5
}
