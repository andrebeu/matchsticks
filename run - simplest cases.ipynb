{
 "cells": [
  {
   "cell_type": "code",
   "execution_count": 1,
   "id": "35d3f667",
   "metadata": {},
   "outputs": [],
   "source": [
    "import numpy as np\n",
    "from main import *\n",
    "import seaborn as sns\n",
    "sns.set_context('talk')\n",
    "\n",
    "%load_ext autoreload\n",
    "%reload_ext autoreload\n",
    "%autoreload 2\n",
    "%matplotlib inline"
   ]
  },
  {
   "cell_type": "markdown",
   "id": "b7358124",
   "metadata": {},
   "source": [
    "# single stick sticking up"
   ]
  },
  {
   "cell_type": "code",
   "execution_count": 24,
   "id": "2291a341",
   "metadata": {},
   "outputs": [],
   "source": [
    "x0 = form_obs([9,12,13,16,6])\n",
    "xf = form_obs([9,12,13,16])\n",
    "# s0 = State(x0,depth=0)\n",
    "# sf = State(xf,depth=1,is_final=True)"
   ]
  },
  {
   "cell_type": "code",
   "execution_count": 26,
   "id": "1f61ecc8",
   "metadata": {},
   "outputs": [],
   "source": [
    "task = Task(init_state_obs=x0,final_states_obs=[xf],max_depth=1)"
   ]
  },
  {
   "cell_type": "code",
   "execution_count": 30,
   "id": "25c37aba",
   "metadata": {},
   "outputs": [
    {
     "name": "stdout",
     "output_type": "stream",
     "text": [
      "a0 6\n"
     ]
    },
    {
     "data": {
      "text/plain": [
       "1"
      ]
     },
     "execution_count": 30,
     "metadata": {},
     "output_type": "execute_result"
    }
   ],
   "source": [
    "BFSPlay(task)"
   ]
  },
  {
   "cell_type": "code",
   "execution_count": null,
   "id": "883ff5c4",
   "metadata": {},
   "outputs": [],
   "source": []
  }
 ],
 "metadata": {
  "kernelspec": {
   "display_name": "Python 3",
   "language": "python",
   "name": "python3"
  },
  "language_info": {
   "codemirror_mode": {
    "name": "ipython",
    "version": 3
   },
   "file_extension": ".py",
   "mimetype": "text/x-python",
   "name": "python",
   "nbconvert_exporter": "python",
   "pygments_lexer": "ipython3",
   "version": "3.8.8"
  }
 },
 "nbformat": 4,
 "nbformat_minor": 5
}
