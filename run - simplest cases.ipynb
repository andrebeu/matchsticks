{
 "cells": [
  {
   "cell_type": "code",
   "execution_count": 1,
   "id": "92dddf33",
   "metadata": {},
   "outputs": [],
   "source": [
    "import numpy as np\n",
    "from main import *\n",
    "import seaborn as sns\n",
    "sns.set_context('talk')\n",
    "\n",
    "%load_ext autoreload\n",
    "%reload_ext autoreload\n",
    "%autoreload 2\n",
    "%matplotlib inline"
   ]
  },
  {
   "cell_type": "markdown",
   "id": "395b7599",
   "metadata": {},
   "source": [
    "# single stick sticking up"
   ]
  },
  {
   "cell_type": "code",
   "execution_count": 2,
   "id": "3be1dbde",
   "metadata": {},
   "outputs": [],
   "source": [
    "x0 = form_obs([9,12,13,16,6])\n",
    "xf = form_obs([9,12,13,16])\n",
    "s0 = State(x0,depth=0)\n",
    "sf = State(xf,depth=1,is_final=True)"
   ]
  },
  {
   "cell_type": "code",
   "execution_count": 3,
   "id": "590d5da6",
   "metadata": {},
   "outputs": [],
   "source": [
    "task = Task(init_state=s0,final_states=[sf],max_depth=1)"
   ]
  },
  {
   "cell_type": "code",
   "execution_count": 6,
   "id": "aef6202e",
   "metadata": {},
   "outputs": [
    {
     "name": "stdout",
     "output_type": "stream",
     "text": [
      "actions taken 6\n",
      "actions taken 9\n",
      "actions taken 12\n",
      "actions taken 13\n",
      "actions taken 16\n"
     ]
    },
    {
     "ename": "AssertionError",
     "evalue": "possible infinite while",
     "output_type": "error",
     "traceback": [
      "\u001b[0;31m---------------------------------------------------------------------------\u001b[0m",
      "\u001b[0;31mAssertionError\u001b[0m                            Traceback (most recent call last)",
      "\u001b[0;32m<ipython-input-6-59341e6ff3d6>\u001b[0m in \u001b[0;36m<module>\u001b[0;34m\u001b[0m\n\u001b[0;32m----> 1\u001b[0;31m \u001b[0mBFSPlay\u001b[0m\u001b[0;34m(\u001b[0m\u001b[0mtask\u001b[0m\u001b[0;34m)\u001b[0m\u001b[0;34m\u001b[0m\u001b[0;34m\u001b[0m\u001b[0m\n\u001b[0m",
      "\u001b[0;32m~/wd/matchsticks/main.py\u001b[0m in \u001b[0;36mBFSPlay\u001b[0;34m(task)\u001b[0m\n\u001b[1;32m     53\u001b[0m         \u001b[0;31m# safety\u001b[0m\u001b[0;34m\u001b[0m\u001b[0;34m\u001b[0m\u001b[0;34m\u001b[0m\u001b[0m\n\u001b[1;32m     54\u001b[0m         \u001b[0;32mif\u001b[0m \u001b[0mwsteps\u001b[0m \u001b[0;34m>\u001b[0m \u001b[0;36m5\u001b[0m\u001b[0;34m:\u001b[0m\u001b[0;34m\u001b[0m\u001b[0;34m\u001b[0m\u001b[0m\n\u001b[0;32m---> 55\u001b[0;31m             \u001b[0;32massert\u001b[0m \u001b[0;32mFalse\u001b[0m\u001b[0;34m,\u001b[0m \u001b[0;34m'possible infinite while'\u001b[0m\u001b[0;34m\u001b[0m\u001b[0;34m\u001b[0m\u001b[0m\n\u001b[0m\u001b[1;32m     56\u001b[0m \u001b[0;34m\u001b[0m\u001b[0m\n\u001b[1;32m     57\u001b[0m \u001b[0;34m\u001b[0m\u001b[0m\n",
      "\u001b[0;31mAssertionError\u001b[0m: possible infinite while"
     ]
    }
   ],
   "source": [
    "BFSPlay(task)"
   ]
  },
  {
   "cell_type": "code",
   "execution_count": null,
   "id": "31138e09",
   "metadata": {},
   "outputs": [],
   "source": []
  }
 ],
 "metadata": {
  "kernelspec": {
   "display_name": "Python 3",
   "language": "python",
   "name": "python3"
  },
  "language_info": {
   "codemirror_mode": {
    "name": "ipython",
    "version": 3
   },
   "file_extension": ".py",
   "mimetype": "text/x-python",
   "name": "python",
   "nbconvert_exporter": "python",
   "pygments_lexer": "ipython3",
   "version": "3.8.8"
  }
 },
 "nbformat": 4,
 "nbformat_minor": 5
}
