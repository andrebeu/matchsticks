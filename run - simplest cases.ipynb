{
 "cells": [
  {
   "cell_type": "code",
   "execution_count": 1,
   "id": "93c738a8",
   "metadata": {},
   "outputs": [],
   "source": [
    "import numpy as np\n",
    "from main import *\n",
    "import seaborn as sns\n",
    "sns.set_context('talk')\n",
    "\n",
    "%load_ext autoreload\n",
    "%reload_ext autoreload\n",
    "%autoreload 2\n",
    "%matplotlib inline"
   ]
  },
  {
   "cell_type": "markdown",
   "id": "e0ff1472",
   "metadata": {},
   "source": [
    "# single stick sticking down"
   ]
  },
  {
   "cell_type": "code",
   "execution_count": 31,
   "id": "6efe58c2",
   "metadata": {},
   "outputs": [],
   "source": [
    "x0 = form_obs([9,12,13,16,20])\n",
    "xf = form_obs([9,12,13,16])"
   ]
  },
  {
   "cell_type": "code",
   "execution_count": 32,
   "id": "d0c1f159",
   "metadata": {},
   "outputs": [],
   "source": [
    "task = Task(init_state_obs=x0,final_states_obs=[xf],max_depth=1)"
   ]
  },
  {
   "cell_type": "code",
   "execution_count": 33,
   "id": "2192fa09",
   "metadata": {},
   "outputs": [
    {
     "name": "stdout",
     "output_type": "stream",
     "text": [
      "a0 9\n",
      "a1 12\n",
      "a2 13\n",
      "a3 16\n",
      "a4 20\n"
     ]
    },
    {
     "data": {
      "text/plain": [
       "5"
      ]
     },
     "execution_count": 33,
     "metadata": {},
     "output_type": "execute_result"
    }
   ],
   "source": [
    "BFSPlay(task)"
   ]
  },
  {
   "cell_type": "code",
   "execution_count": null,
   "id": "2693cd81",
   "metadata": {},
   "outputs": [],
   "source": []
  }
 ],
 "metadata": {
  "kernelspec": {
   "display_name": "Python 3",
   "language": "python",
   "name": "python3"
  },
  "language_info": {
   "codemirror_mode": {
    "name": "ipython",
    "version": 3
   },
   "file_extension": ".py",
   "mimetype": "text/x-python",
   "name": "python",
   "nbconvert_exporter": "python",
   "pygments_lexer": "ipython3",
   "version": "3.8.8"
  }
 },
 "nbformat": 4,
 "nbformat_minor": 5
}
