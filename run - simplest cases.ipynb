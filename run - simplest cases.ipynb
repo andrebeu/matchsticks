{
 "cells": [
  {
   "cell_type": "code",
   "execution_count": 67,
   "id": "7f191fb6",
   "metadata": {},
   "outputs": [
    {
     "name": "stdout",
     "output_type": "stream",
     "text": [
      "The autoreload extension is already loaded. To reload it, use:\n",
      "  %reload_ext autoreload\n"
     ]
    }
   ],
   "source": [
    "import numpy as np\n",
    "from shared import *\n",
    "from treeSearch import *\n",
    "import seaborn as sns\n",
    "from matplotlib import pyplot as plt\n",
    "sns.set_context('talk')\n",
    "\n",
    "%load_ext autoreload\n",
    "%reload_ext autoreload\n",
    "%autoreload 2\n",
    "%matplotlib inline"
   ]
  },
  {
   "cell_type": "markdown",
   "id": "60737f80",
   "metadata": {},
   "source": [
    "# single stick sticking down"
   ]
  },
  {
   "cell_type": "code",
   "execution_count": 80,
   "id": "7dd4250b",
   "metadata": {},
   "outputs": [
    {
     "data": {
      "text/plain": [
       "array([0., 0., 0., 0., 0., 0., 0., 0., 0., 1., 0., 0., 1., 1., 0., 0., 1.,\n",
       "       0., 0., 0., 1., 0., 0., 0.])"
      ]
     },
     "execution_count": 80,
     "metadata": {},
     "output_type": "execute_result"
    }
   ],
   "source": [
    "x0 = form_obs([9,12,13,16,20])\n",
    "xf = form_obs([9,12,13,16])\n",
    "x0"
   ]
  },
  {
   "cell_type": "code",
   "execution_count": 81,
   "id": "da0873de",
   "metadata": {},
   "outputs": [
    {
     "data": {
      "text/plain": [
       "array([0., 0., 0., 0., 0., 0., 0., 0., 0., 1., 0., 0., 1., 1., 0., 0., 1.,\n",
       "       0., 0., 0., 1., 0., 0., 0.])"
      ]
     },
     "execution_count": 81,
     "metadata": {},
     "output_type": "execute_result"
    }
   ],
   "source": [
    "task = Task(init_obs=x0,nsquares=1,nmoves=1)\n",
    "task.head_node.obs"
   ]
  },
  {
   "cell_type": "code",
   "execution_count": 85,
   "id": "0ea0ba2d",
   "metadata": {},
   "outputs": [
    {
     "data": {
      "text/plain": [
       "2"
      ]
     },
     "execution_count": 85,
     "metadata": {},
     "output_type": "execute_result"
    }
   ],
   "source": [
    "treeSearch(task,BFS=False)"
   ]
  },
  {
   "cell_type": "code",
   "execution_count": 9,
   "id": "8e1e3932",
   "metadata": {},
   "outputs": [
    {
     "data": {
      "text/plain": [
       "deque([1, 2, 3])"
      ]
     },
     "execution_count": 9,
     "metadata": {},
     "output_type": "execute_result"
    }
   ],
   "source": [
    "from collections import deque\n",
    "deq = deque()\n",
    "deq.append(0)\n",
    "deq.extend([1,2,3])\n",
    "deq.popleft()\n",
    "deq"
   ]
  },
  {
   "cell_type": "code",
   "execution_count": 12,
   "id": "8957ba12",
   "metadata": {},
   "outputs": [],
   "source": [
    "def eval_nsteps(play_fn,task,nitr):\n",
    "  nsteps = np.zeros(nitr)\n",
    "  for itr in np.arange(nitr):\n",
    "    nsteps[itr] = play_fn(task)\n",
    "  return nsteps\n"
   ]
  },
  {
   "cell_type": "code",
   "execution_count": 25,
   "id": "367b3bee",
   "metadata": {},
   "outputs": [
    {
     "data": {
      "text/plain": [
       "Text(0, 0.5, 'solution time')"
      ]
     },
     "execution_count": 25,
     "metadata": {},
     "output_type": "execute_result"
    },
    {
     "data": {
      "image/png": "[encoded data removed]",
      "text/plain": [
       "<Figure size 216x216 with 1 Axes>"
      ]
     },
     "metadata": {
      "needs_background": "light"
     },
     "output_type": "display_data"
    }
   ],
   "source": [
    "nitr = 100\n",
    "bfs_steps = eval_nsteps(BFSplay,task,nitr)\n",
    "dfs_steps = eval_nsteps(BFSplay,task,nitr)\n",
    "\n",
    "## plt\n",
    "xplt = ['bfs','dfs']\n",
    "yplt = [bfs_steps.mean(),\n",
    "        dfs_steps.mean()\n",
    "       ]\n",
    "yerplt = [bfs_steps.std()/np.sqrt(nitr),\n",
    "          dfs_steps.std()/np.sqrt(nitr)\n",
    "         ]\n",
    "\n",
    "f,axar = plt.subplots(1,1,figsize=(3,3))\n",
    "ax =axar\n",
    "ax.bar(xplt,yplt,yerr=yerplt)\n",
    "ax.set_ylabel('solution time')"
   ]
  },
  {
   "cell_type": "code",
   "execution_count": 28,
   "id": "16092496",
   "metadata": {},
   "outputs": [
    {
     "data": {
      "text/plain": [
       "<queue.Queue at 0x7fef5a1d4940>"
      ]
     },
     "execution_count": 28,
     "metadata": {},
     "output_type": "execute_result"
    }
   ],
   "source": [
    "import queue\n",
    "q1 = queue.Queue()\n",
    "q1.put(10)\n",
    "q1."
   ]
  },
  {
   "cell_type": "code",
   "execution_count": 44,
   "id": "43263cab",
   "metadata": {},
   "outputs": [
    {
     "name": "stdout",
     "output_type": "stream",
     "text": [
      "0\n",
      "1\n",
      "2\n",
      "3\n",
      "4\n",
      "5\n",
      "6\n",
      "7\n",
      "8\n"
     ]
    },
    {
     "data": {
      "text/plain": [
       "array([[1., 0., 0., 1., 1., 0., 0., 1., 0., 0., 0., 0., 0., 0., 0., 0.,\n",
       "        0., 0., 0., 0., 0., 0., 0., 0.],\n",
       "       [0., 1., 0., 0., 1., 1., 0., 0., 1., 0., 0., 0., 0., 0., 0., 0.,\n",
       "        0., 0., 0., 0., 0., 0., 0., 0.],\n",
       "       [0., 0., 1., 0., 0., 1., 1., 0., 0., 1., 0., 0., 0., 0., 0., 0.,\n",
       "        0., 0., 0., 0., 0., 0., 0., 0.],\n",
       "       [0., 0., 0., 0., 0., 0., 0., 1., 0., 0., 1., 1., 0., 0., 1., 0.,\n",
       "        0., 0., 0., 0., 0., 0., 0., 0.],\n",
       "       [0., 0., 0., 0., 0., 0., 0., 0., 1., 0., 0., 1., 1., 0., 0., 1.,\n",
       "        0., 0., 0., 0., 0., 0., 0., 0.],\n",
       "       [0., 0., 0., 0., 0., 0., 0., 0., 0., 1., 0., 0., 1., 1., 0., 0.,\n",
       "        1., 0., 0., 0., 0., 0., 0., 0.],\n",
       "       [0., 0., 0., 0., 0., 0., 0., 0., 0., 0., 0., 0., 0., 0., 1., 0.,\n",
       "        0., 1., 1., 0., 0., 1., 0., 0.],\n",
       "       [0., 0., 0., 0., 0., 0., 0., 0., 0., 0., 0., 0., 0., 0., 0., 1.,\n",
       "        0., 0., 1., 1., 0., 0., 1., 0.],\n",
       "       [0., 0., 0., 0., 0., 0., 0., 0., 0., 0., 0., 0., 0., 0., 0., 0.,\n",
       "        1., 0., 0., 1., 1., 0., 0., 1.]])"
      ]
     },
     "execution_count": 44,
     "metadata": {},
     "output_type": "execute_result"
    }
   ],
   "source": [
    "COUNT_SQUARE_IDX = [\n",
    "    [1,4,5,8], # ones in first row\n",
    "    [2,5,6,9], # ones in second row\n",
    "    [3,6,7,10],\n",
    "    [8,11,12,15],\n",
    "    [9,12,13,16],\n",
    "    [10,13,14,17],\n",
    "    [15,18,19,22],\n",
    "    [16,19,20,23],\n",
    "    [17,20,21,24]\n",
    "]\n",
    "\n",
    "COUNT_SQUARE_MATRIX = np.zeros([9,24])\n",
    "for idx_row,idx_col in enumerate(COUNT_SQUARE_IDX):\n",
    "  M[idx_row,np.array(idx_col)-1] = 1"
   ]
  }
 ],
 "metadata": {
  "kernelspec": {
   "display_name": "Python 3",
   "language": "python",
   "name": "python3"
  },
  "language_info": {
   "codemirror_mode": {
    "name": "ipython",
    "version": 3
   },
   "file_extension": ".py",
   "mimetype": "text/x-python",
   "name": "python",
   "nbconvert_exporter": "python",
   "pygments_lexer": "ipython3",
   "version": "3.8.8"
  }
 },
 "nbformat": 4,
 "nbformat_minor": 5
}
